{
 "cells": [
  {
   "cell_type": "markdown",
   "id": "2dfc34ce",
   "metadata": {},
   "source": [
    "## Definition of the analyzed text"
   ]
  },
  {
   "cell_type": "code",
   "execution_count": 169,
   "id": "1291334f",
   "metadata": {},
   "outputs": [
    {
     "name": "stdout",
     "output_type": "stream",
     "text": [
      "Variant:  2\n",
      "Analyzed text: \n",
      "Selling **_Concord_**, a task that might have been easy five years ago, feels\n",
      "like rolling a boulder up a hill in 2024. Developed by new studio Firewalk and\n",
      "published by PlayStation Studios, _Concord_ is a 5v5 hero shooter that riffs on\n",
      "_Guardians of the Galaxy_ with a cassette-era take on a pulpy space setting.\n",
      "It's a premise that could certainly work, but the prime cultural moment for\n",
      "something fitting that bill has already passed, and an aggressive slate of\n",
      "upcoming hero shooters like _Marvel Rivals_ and Valve's _Deadlock_ promises a\n",
      "lot of competition.  **When it comes to the hero shooter staples, _Concord_\n",
      "covers all the bases**. 16 characters divided into six different classes compete\n",
      "across several primary game modes — the team-based deathmatch Brawl, a control\n",
      "points scenario called Overrun, and a competitive tactical option labeled\n",
      "Rivalry. Each one will randomly play out as one of two versions that make minor\n",
      "tweaks to the formula, but there's nothing as radically different as a payload\n",
      "mode or free-for-all.  **Pros**  -   Has all the hero shooter staples you'd\n",
      "expect -   Focus on skills/gunplay having some nuance creates fun learning curve\n",
      "-   Gameplay modes are fun  **Cons**  -   Uninspiring design -   Restrictions on\n",
      "gameplay modes dull enjoyment -   Weird graphics decisions on PC  ## Familiar\n",
      "Elements With Minor Twists That Aren't Earth-Shattering  ### Don't Expect\n",
      "Anything Game-Changing From Concord  It's difficult to discuss _Concord_ without\n",
      "talking about _Overwatch_, so it's best to get it out of the way early.\n",
      "_Concord_ feels like the hero shooter titan to a degree that most competitors\n",
      "don't, and perhaps even to a degree that _Overwatch 2_ doesn't. From the\n",
      "responsive gunplay to the movement and heft of the characters, it's all more or\n",
      "less in line, and **its minimal interest in over-stimulation feels refreshingly\n",
      "aligned with the original _Overwatch_ experience**.  _Concord_ thoroughly\n",
      "fulfills the hero-swapping premise with an open queue and a flexible approach to\n",
      "roles in general that could help combat over-reliance on meta compositions.\n",
      "Rather than distinctions like DPS, tank, and support classes, divisions focus\n",
      "more on how characters poke at enemies, from Breachers like Star Child who can\n",
      "effectively lead charges to Haunts like It-Z who stay on the move. The unusual\n",
      "part is how **_Concord_ actively incentivizes hero-swapping with buffs that\n",
      "activate from participating in each role**, an interesting but weirdly appended\n",
      "mechanic that might end up being ignored by casual players.  Character variants\n",
      "and custom roster building also emphasize the complexity of hero-swapping\n",
      "possibilities in _Concord._  **Abilities follow in the line of games like\n",
      "_Valorant_ by being a bit more muted** in nature and effect. A lot of characters\n",
      "simply throw things, whether those are knives, grenades, or healing pads. It's\n",
      "satisfying whenever abilities resolve in a successful gameplay sequence,\n",
      "especially thanks to a recharge mechanic that requires kills to regain a lot of\n",
      "skill uses. Flashbanging an enemy as Haymar and combo-ing them with walls of\n",
      "fire and flaming projectiles is deeply satisfying. Some skills, however, end up\n",
      "feeling only mildly impactful or even completely irrelevant.  ## Balancing Modes\n",
      "Could Hurt A Good Gameplay Cadence  ### Casual Modes Are Fun But Kneecapped By\n",
      "Design Restriction  Although _Concord_'s maps don't often naturally corral\n",
      "players in one direction, working with a team is important. High time-to-kill\n",
      "and a lack of abilities that quickly shatter health bars mean that picking off\n",
      "enemy players who aren't alone is a challenge without backup. Charging into the\n",
      "fray as Emari (essentially a redux of _Team Fortress 2_'s Heavy) can be fun, but\n",
      "standing behind a corner to buff high-damage teammates with her armor generator\n",
      "is an equally strong decision.  _Concord_ isn't about constant showdowns,\n",
      "instead focusing on the ability to survive a confrontation and pick up the\n",
      "pieces before the next one. Healing pads and skills focus on gradated recharges\n",
      "rather than instant refills, and a number of expendable abilities are regained\n",
      "by picking up a drop after killing an enemy. **For those who enjoy gameplay that\n",
      "fluctuates in intensity, it's an engaging cadence**, although actually finding\n",
      "healing while learning the maps can sometimes feel like a wild goose chase.  The\n",
      "biggest challenge for _Concord_ lies in its attempt to put an equal emphasis on\n",
      "both casual FPS brawls and tactical shooter matches, two things that reward\n",
      "different abilities in uneven ways. **At the moment, it feels like the game is\n",
      "balanced around Rivalry**, which was altered after launch to give extra XP in\n",
      "order to fix queues that were previously struggling to fill. One of Rivalry's\n",
      "two variants, Cargo Run, works like a bomb-planting extraction match. The other,\n",
      "Clash Point, simplifies things with one zone to control.  Winning a round with a\n",
      "hero locks them out for future use, but building a custom crew with repeat\n",
      "heroes can get around this obstacle. Swapping, however, is incentivized by the\n",
      "buff-stacking system, which integrates more naturally in Rivalry than in casual\n",
      "mode. With careful flanking and team showdowns that tend to be more guided than\n",
      "the directionless arenas of other modes, abilities are more consistently\n",
      "relevant, and playing a slower tank no longer feels like punishment. Rivalry is\n",
      "relatively tactical without venturing into hyper-competitive territory, and it\n",
      "could be nice for those who like strategizing without sweating.  ## A Good-\n",
      "Looking Game With Caveats Aplenty  ### Excellent Graphics & Uninspiring Design\n",
      "Litter Concord  Aesthetic is important for hero shooters, and _Concord_ may end\n",
      "up being fairly divisive in that realm. It's certainly visually polished, with\n",
      "gorgeous lighting and textures even on medium settings. Some maps show off these\n",
      "features well, while others feel blandly industrial. Character designs manage to\n",
      "avoid falling back on tropes for every hero, but few of them actually come\n",
      "across as particularly appealing, and the current roster of cosmetics is never\n",
      "interestingly transformative.  The cast of characters is backed up by an\n",
      "emphasis on lore, and Firewalk is promising weekly cutscenes to keep that at the\n",
      "forefront. Information on the setting is reflected in-game through a Galactic\n",
      "Guide, which makes for decent reading while waiting for queues. Making the story\n",
      "interesting will require moving beyond its currently generic, quippy nature,\n",
      "however, and it might still be better to focus ongoing development on the game\n",
      "itself.  There's one very baffling element of _Concord_ 's graphics settings,\n",
      "which is the lack of fullscreen resolution options on PC.  **There's one very\n",
      "baffling element of _Concord_'s graphics settings, which is the lack of\n",
      "fullscreen resolution options on PC**. It's a fairly demanding title, so someone\n",
      "with a solid but unexceptional graphics card and a 4K monitor might have a\n",
      "better time running it with good settings on 1080p than with low ones in 4K.\n",
      "Achieving this in fullscreen can only be done by changing the display settings\n",
      "in the actual computer OS, a bizarre and frustrating requirement.  _Concord_\n",
      "also has a couple of control quirks on PC. The Dodge maneuver, which is highly\n",
      "relevant for one character, is bound to a double-tap of the shift key that's\n",
      "awkward and inconsistent to use.  ## Final Thoughts & Review Score  ### 3/5 -\n",
      "Solid, Or Good, By Screen Rant's Review Metric  The upfront cost of _Concord_\n",
      "might make it a hard sell in 2024, but it's certainly nice to play a live-\n",
      "service shooter that doesn't feel designed to ask for money at every turn.\n",
      "Everything in the game at the moment can at least be earned for free (with\n",
      "monetization presumably joining the game when the first season starts), although\n",
      "progression would feel better with some freedom of choice added in. The live-\n",
      "service element of the game will add heroes, maps, and more, and the focus on\n",
      "the lore promises a continuing story to come.  Although _Concord_ is solid and\n",
      "polished on a basic level, it's faced with an uphill battle that it already\n",
      "seems to be losing. **A shotgun blast approach that attempts to hit the basic\n",
      "notes of every hero shooter prerogative makes it harder for it to do one thing\n",
      "in a truly fresh way**, and the casual modes would be more exciting with bigger\n",
      "abilities and maps with more interesting pressure points. The game's systems\n",
      "click in Rivalry and get the job done across the other game modes, but _Concord_\n",
      "lacks the spark necessary to light much of a flame.\n"
     ]
    }
   ],
   "source": [
    "import textwrap\n",
    "import re\n",
    "\n",
    "last_name = \"Крылов\"\n",
    "\n",
    "if not last_name:\n",
    "    raise Exception('Last name is required!')\n",
    "\n",
    "alp = \"абвгдеёжзийклмнопрстуфхцчшщъыьэюя\"\n",
    "w = [1, 4, 21, 25, 34,  6, 44, 26, 13, 44, 38, 26, 4, 43,  4, 49, 46,\n",
    "        17, 42, 29,  4,  9, 36, 34, 31, 22,  15, 30,  4, 19, 28, 28, 33]\n",
    "\n",
    "d = dict(zip(alp, w))\n",
    "variant =  sum([d[el] for el in last_name.lower()]) % 4 + 1\n",
    "\n",
    "print(\"Variant: \", variant)\n",
    "\n",
    "# Construct the file name based on the variant number\n",
    "file_name = f\"data/{variant}.txt\"\n",
    "\n",
    "# Read the contents of the file\n",
    "with open(file_name, \"r\", encoding=\"utf-8\") as file:\n",
    "    TEXT = file.read()\n",
    "\n",
    "text_for_task_3 = TEXT\n",
    "\n",
    "wrapped = textwrap.fill(TEXT, width=80)\n",
    "print(f\"Analyzed text: \\n{wrapped}\")"
   ]
  },
  {
   "cell_type": "markdown",
   "id": "f845bf87",
   "metadata": {},
   "source": [
    "# Task 1"
   ]
  },
  {
   "cell_type": "code",
   "execution_count": 170,
   "id": "bf1b2dcf",
   "metadata": {},
   "outputs": [
    {
     "name": "stdout",
     "output_type": "stream",
     "text": [
      "Preprocessed text: \n",
      "selling concord a task that might have been easy five years ago feels like rolling a boulder up a hill in 2024. developed by new studio firewalk and published by playstation studios concord is a 5v5 hero shooter that riffs on guardians of the galaxy with a cassetteera take on a pulpy space setting. it's a premise that could certainly work but the prime cultural moment for something fitting that bill has already passed and an aggressive slate of upcoming hero shooters like marvel rivals and valve's deadlock promises a lot of competition. when it comes to the hero shooter staples concord covers all the bases. 16 characters divided into six different classes compete across several primary game modes the teambased deathmatch brawl a control points scenario called overrun and a competitive tactical option labeled rivalry. each one will randomly play out as one of two versions that make minor tweaks to the formula but there's nothing as radically different as a payload mode or freeforall. pros has all the hero shooter staples you'd expect focus on skillsgunplay having some nuance creates fun learning curve gameplay modes are fun cons uninspiring design restrictions on gameplay modes dull enjoyment weird graphics decisions on pc familiar elements with minor twists that aren't earthshattering don't expect anything gamechanging from concord it's difficult to discuss concord without talking about overwatch so it's best to get it out of the way early. concord feels like the hero shooter titan to a degree that most competitors don't and perhaps even to a degree that overwatch 2 doesn't. from the responsive gunplay to the movement and heft of the characters it's all more or less in line and its minimal interest in overstimulation feels refreshingly aligned with the original overwatch experience. concord thoroughly fulfills the heroswapping premise with an open queue and a flexible approach to roles in general that could help combat overreliance on meta compositions. rather than distinctions like dps tank and support classes divisions focus more on how characters poke at enemies from breachers like star child who can effectively lead charges to haunts like itz who stay on the move. the unusual part is how concord actively incentivizes heroswapping with buffs that activate from participating in each role an interesting but weirdly appended mechanic that might end up being ignored by casual players. character variants and custom roster building also emphasize the complexity of heroswapping possibilities in concord. abilities follow in the line of games like valorant by being a bit more muted in nature and effect. a lot of characters simply throw things whether those are knives grenades or healing pads. it's satisfying whenever abilities resolve in a successful gameplay sequence especially thanks to a recharge mechanic that requires kills to regain a lot of skill uses. flashbanging an enemy as haymar and comboing them with walls of fire and flaming projectiles is deeply satisfying. some skills however end up feeling only mildly impactful or even completely irrelevant. balancing modes could hurt a good gameplay cadence casual modes are fun but kneecapped by design restriction although concord's maps don't often naturally corral players in one direction working with a team is important. high timetokill and a lack of abilities that quickly shatter health bars mean that picking off enemy players who aren't alone is a challenge without backup. charging into the fray as emari essentially a redux of team fortress 2's heavy can be fun but standing behind a corner to buff highdamage teammates with her armor generator is an equally strong decision. concord isn't about constant showdowns instead focusing on the ability to survive a confrontation and pick up the pieces before the next one. healing pads and skills focus on gradated recharges rather than instant refills and a number of expendable abilities are regained by picking up a drop after killing an enemy. for those who enjoy gameplay that fluctuates in intensity it's an engaging cadence although actually finding healing while learning the maps can sometimes feel like a wild goose chase. the biggest challenge for concord lies in its attempt to put an equal emphasis on both casual fps brawls and tactical shooter matches two things that reward different abilities in uneven ways. at the moment it feels like the game is balanced around rivalry which was altered after launch to give extra xp in order to fix queues that were previously struggling to fill. one of rivalry's two variants cargo run works like a bombplanting extraction match. the other clash point simplifies things with one zone to control. winning a round with a hero locks them out for future use but building a custom crew with repeat heroes can get around this obstacle. swapping however is incentivized by the buffstacking system which integrates more naturally in rivalry than in casual mode. with careful flanking and team showdowns that tend to be more guided than the directionless arenas of other modes abilities are more consistently relevant and playing a slower tank no longer feels like punishment. rivalry is relatively tactical without venturing into hypercompetitive territory and it could be nice for those who like strategizing without sweating. a goodlooking game with caveats aplenty excellent graphics uninspiring design litter concord aesthetic is important for hero shooters and concord may end up being fairly divisive in that realm. it's certainly visually polished with gorgeous lighting and textures even on medium settings. some maps show off these features well while others feel blandly industrial. character designs manage to avoid falling back on tropes for every hero but few of them actually come across as particularly appealing and the current roster of cosmetics is never interestingly transformative. the cast of characters is backed up by an emphasis on lore and firewalk is promising weekly cutscenes to keep that at the forefront. information on the setting is reflected ingame through a galactic guide which makes for decent reading while waiting for queues. making the story interesting will require moving beyond its currently generic quippy nature however and it might still be better to focus ongoing development on the game itself. there's one very baffling element of concord 's graphics settings which is the lack of fullscreen resolution options on pc. there's one very baffling element of concord's graphics settings which is the lack of fullscreen resolution options on pc. it's a fairly demanding title so someone with a solid but unexceptional graphics card and a 4k monitor might have a better time running it with good settings on 1080p than with low ones in 4k. achieving this in fullscreen can only be done by changing the display settings in the actual computer os a bizarre and frustrating requirement. concord also has a couple of control quirks on pc. the dodge maneuver which is highly relevant for one character is bound to a doubletap of the shift key that's awkward and inconsistent to use. final thoughts review score 35 solid or good by screen rant's review metric the upfront cost of concord might make it a hard sell in 2024 but it's certainly nice to play a liveservice shooter that doesn't feel designed to ask for money at every turn. everything in the game at the moment can at least be earned for free with monetization presumably joining the game when the first season starts although progression would feel better with some freedom of choice added in. the liveservice element of the game will add heroes maps and more and the focus on the lore promises a continuing story to come. although concord is solid and polished on a basic level it's faced with an uphill battle that it already seems to be losing. a shotgun blast approach that attempts to hit the basic notes of every hero shooter prerogative makes it harder for it to do one thing in a truly fresh way and the casual modes would be more exciting with bigger abilities and maps with more interesting pressure points. the game's systems click in rivalry and get the job done across the other game modes but concord lacks the spark necessary to light much of a flame.\n"
     ]
    }
   ],
   "source": [
    "def preprocess_text(text):\n",
    "    text = text.lower()\n",
    "    text = re.sub(r'[^a-z\\s.!?0-9\\']', '', text)\n",
    "    text = re.sub(r'([.!?])\\1+', r'\\1', text)\n",
    "    text = re.sub(r'\\s+', ' ', text).strip()\n",
    "    return text\n",
    "\n",
    "preprocessed_text = preprocess_text(TEXT)\n",
    "\n",
    "print(f\"Preprocessed text: \\n{preprocessed_text}\")"
   ]
  },
  {
   "cell_type": "markdown",
   "id": "7299657b",
   "metadata": {},
   "source": [
    "# Task 2"
   ]
  },
  {
   "cell_type": "code",
   "execution_count": 171,
   "id": "7d88d13a",
   "metadata": {},
   "outputs": [],
   "source": [
    "stop_words = [\"and\", \"the\", \"is\", \"in\", \"it\", \"you\", \"that\", \"to\", \"of\", \"a\", \"with\", \"for\", \"on\", \"this\", \"at\", \"by\", \"an\"]"
   ]
  },
  {
   "cell_type": "code",
   "execution_count": 172,
   "id": "fab6d2be",
   "metadata": {},
   "outputs": [
    {
     "name": "stdout",
     "output_type": "stream",
     "text": [
      "Word frequencies: \n",
      "{'selling': 1, 'concord': 18, 'task': 1, 'might': 5, 'have': 2, 'been': 1, 'easy': 1, 'five': 1, 'years': 1, 'ago': 1, 'feels': 5, 'like': 12, 'rolling': 1, 'boulder': 1, 'up': 7, 'hill': 1, 'developed': 1, 'new': 1, 'studio': 1, 'firewalk': 2, 'published': 1, 'playstation': 1, 'studios': 1, 'v': 1, 'hero': 9, 'shooter': 7, 'riffs': 1, 'guardians': 1, 'galaxy': 1, 'cassetteera': 1, 'take': 1, 'pulpy': 1, 'space': 1, 'setting': 2, \"it's\": 10, 'premise': 2, 'could': 4, 'certainly': 3, 'work': 1, 'but': 10, 'prime': 1, 'cultural': 1, 'moment': 3, 'something': 1, 'fitting': 1, 'bill': 1, 'has': 3, 'already': 2, 'passed': 1, 'aggressive': 1, 'slate': 1, 'upcoming': 1, 'shooters': 2, 'marvel': 1, 'rivals': 1, \"valve's\": 1, 'deadlock': 1, 'promises': 2, 'lot': 3, 'competition': 1, 'when': 2, 'comes': 1, 'staples': 2, 'covers': 1, 'all': 3, 'bases': 1, 'characters': 5, 'divided': 1, 'into': 3, 'six': 1, 'different': 3, 'classes': 2, 'compete': 1, 'across': 3, 'several': 1, 'primary': 1, 'game': 8, 'modes': 8, 'teambased': 1, 'deathmatch': 1, 'brawl': 1, 'control': 3, 'points': 2, 'scenario': 1, 'called': 1, 'overrun': 1, 'competitive': 1, 'tactical': 3, 'option': 1, 'labeled': 1, 'rivalry': 5, 'each': 2, 'one': 10, 'will': 3, 'randomly': 1, 'play': 2, 'out': 3, 'as': 6, 'two': 3, 'versions': 1, 'make': 2, 'minor': 2, 'tweaks': 1, 'formula': 1, \"there's\": 3, 'nothing': 1, 'radically': 1, 'payload': 1, 'mode': 2, 'or': 5, 'freeforall': 1, 'pros': 1, \"you'd\": 1, 'expect': 2, 'focus': 5, 'skillsgunplay': 1, 'having': 1, 'some': 4, 'nuance': 1, 'creates': 1, 'fun': 4, 'learning': 2, 'curve': 1, 'gameplay': 5, 'are': 5, 'cons': 1, 'uninspiring': 2, 'design': 3, 'restrictions': 1, 'dull': 1, 'enjoyment': 1, 'weird': 1, 'graphics': 5, 'decisions': 1, 'pc': 4, 'familiar': 1, 'elements': 1, 'twists': 1, \"aren't\": 2, 'earthshattering': 1, \"don't\": 3, 'anything': 1, 'gamechanging': 1, 'from': 4, 'difficult': 1, 'discuss': 1, 'without': 4, 'talking': 1, 'about': 2, 'overwatch': 3, 'so': 2, 'best': 1, 'get': 3, 'way': 2, 'early': 1, 'titan': 1, 'degree': 2, 'most': 1, 'competitors': 1, 'perhaps': 1, 'even': 3, \"doesn't\": 2, 'responsive': 1, 'gunplay': 1, 'movement': 1, 'heft': 1, 'more': 9, 'less': 1, 'line': 2, 'its': 3, 'minimal': 1, 'interest': 1, 'overstimulation': 1, 'refreshingly': 1, 'aligned': 1, 'original': 1, 'experience': 1, 'thoroughly': 1, 'fulfills': 1, 'heroswapping': 3, 'open': 1, 'queue': 1, 'flexible': 1, 'approach': 2, 'roles': 1, 'general': 1, 'help': 1, 'combat': 1, 'overreliance': 1, 'meta': 1, 'compositions': 1, 'rather': 2, 'than': 5, 'distinctions': 1, 'dps': 1, 'tank': 2, 'support': 1, 'divisions': 1, 'how': 2, 'poke': 1, 'enemies': 1, 'breachers': 1, 'star': 1, 'child': 1, 'who': 5, 'can': 6, 'effectively': 1, 'lead': 1, 'charges': 1, 'haunts': 1, 'itz': 1, 'stay': 1, 'move': 1, 'unusual': 1, 'part': 1, 'actively': 1, 'incentivizes': 1, 'buffs': 1, 'activate': 1, 'participating': 1, 'role': 1, 'interesting': 3, 'weirdly': 1, 'appended': 1, 'mechanic': 2, 'end': 3, 'being': 3, 'ignored': 1, 'casual': 5, 'players': 3, 'character': 3, 'variants': 2, 'custom': 2, 'roster': 2, 'building': 2, 'also': 2, 'emphasize': 1, 'complexity': 1, 'possibilities': 1, 'abilities': 7, 'follow': 1, 'games': 1, 'valorant': 1, 'bit': 1, 'muted': 1, 'nature': 2, 'effect': 1, 'simply': 1, 'throw': 1, 'things': 3, 'whether': 1, 'those': 3, 'knives': 1, 'grenades': 1, 'healing': 3, 'pads': 2, 'satisfying': 2, 'whenever': 1, 'resolve': 1, 'successful': 1, 'sequence': 1, 'especially': 1, 'thanks': 1, 'recharge': 1, 'requires': 1, 'kills': 1, 'regain': 1, 'skill': 1, 'uses': 1, 'flashbanging': 1, 'enemy': 3, 'haymar': 1, 'comboing': 1, 'them': 3, 'walls': 1, 'fire': 1, 'flaming': 1, 'projectiles': 1, 'deeply': 1, 'skills': 2, 'however': 3, 'feeling': 1, 'only': 2, 'mildly': 1, 'impactful': 1, 'completely': 1, 'irrelevant': 1, 'balancing': 1, 'hurt': 1, 'good': 3, 'cadence': 2, 'kneecapped': 1, 'restriction': 1, 'although': 4, \"concord's\": 2, 'maps': 5, 'often': 1, 'naturally': 2, 'corral': 1, 'direction': 1, 'working': 1, 'team': 3, 'important': 2, 'high': 1, 'timetokill': 1, 'lack': 3, 'quickly': 1, 'shatter': 1, 'health': 1, 'bars': 1, 'mean': 1, 'picking': 2, 'off': 2, 'alone': 1, 'challenge': 2, 'backup': 1, 'charging': 1, 'fray': 1, 'emari': 1, 'essentially': 1, 'redux': 1, 'fortress': 1, \"'s\": 2, 'heavy': 1, 'be': 8, 'standing': 1, 'behind': 1, 'corner': 1, 'buff': 1, 'highdamage': 1, 'teammates': 1, 'her': 1, 'armor': 1, 'generator': 1, 'equally': 1, 'strong': 1, 'decision': 1, \"isn't\": 1, 'constant': 1, 'showdowns': 2, 'instead': 1, 'focusing': 1, 'ability': 1, 'survive': 1, 'confrontation': 1, 'pick': 1, 'pieces': 1, 'before': 1, 'next': 1, 'gradated': 1, 'recharges': 1, 'instant': 1, 'refills': 1, 'number': 1, 'expendable': 1, 'regained': 1, 'drop': 1, 'after': 2, 'killing': 1, 'enjoy': 1, 'fluctuates': 1, 'intensity': 1, 'engaging': 1, 'actually': 2, 'finding': 1, 'while': 3, 'sometimes': 1, 'feel': 4, 'wild': 1, 'goose': 1, 'chase': 1, 'biggest': 1, 'lies': 1, 'attempt': 1, 'put': 1, 'equal': 1, 'emphasis': 2, 'both': 1, 'fps': 1, 'brawls': 1, 'matches': 1, 'reward': 1, 'uneven': 1, 'ways': 1, 'balanced': 1, 'around': 2, 'which': 6, 'was': 1, 'altered': 1, 'launch': 1, 'give': 1, 'extra': 1, 'xp': 1, 'order': 1, 'fix': 1, 'queues': 2, 'were': 1, 'previously': 1, 'struggling': 1, 'fill': 1, \"rivalry's\": 1, 'cargo': 1, 'run': 1, 'works': 1, 'bombplanting': 1, 'extraction': 1, 'match': 1, 'other': 3, 'clash': 1, 'point': 1, 'simplifies': 1, 'zone': 1, 'winning': 1, 'round': 1, 'locks': 1, 'future': 1, 'use': 2, 'crew': 1, 'repeat': 1, 'heroes': 2, 'obstacle': 1, 'swapping': 1, 'incentivized': 1, 'buffstacking': 1, 'system': 1, 'integrates': 1, 'careful': 1, 'flanking': 1, 'tend': 1, 'guided': 1, 'directionless': 1, 'arenas': 1, 'consistently': 1, 'relevant': 2, 'playing': 1, 'slower': 1, 'no': 1, 'longer': 1, 'punishment': 1, 'relatively': 1, 'venturing': 1, 'hypercompetitive': 1, 'territory': 1, 'nice': 2, 'strategizing': 1, 'sweating': 1, 'goodlooking': 1, 'caveats': 1, 'aplenty': 1, 'excellent': 1, 'litter': 1, 'aesthetic': 1, 'may': 1, 'fairly': 2, 'divisive': 1, 'realm': 1, 'visually': 1, 'polished': 2, 'gorgeous': 1, 'lighting': 1, 'textures': 1, 'medium': 1, 'settings': 5, 'show': 1, 'these': 1, 'features': 1, 'well': 1, 'others': 1, 'blandly': 1, 'industrial': 1, 'designs': 1, 'manage': 1, 'avoid': 1, 'falling': 1, 'back': 1, 'tropes': 1, 'every': 3, 'few': 1, 'come': 2, 'particularly': 1, 'appealing': 1, 'current': 1, 'cosmetics': 1, 'never': 1, 'interestingly': 1, 'transformative': 1, 'cast': 1, 'backed': 1, 'lore': 2, 'promising': 1, 'weekly': 1, 'cutscenes': 1, 'keep': 1, 'forefront': 1, 'information': 1, 'reflected': 1, 'ingame': 1, 'through': 1, 'galactic': 1, 'guide': 1, 'makes': 2, 'decent': 1, 'reading': 1, 'waiting': 1, 'making': 1, 'story': 2, 'require': 1, 'moving': 1, 'beyond': 1, 'currently': 1, 'generic': 1, 'quippy': 1, 'still': 1, 'better': 3, 'ongoing': 1, 'development': 1, 'itself': 1, 'very': 2, 'baffling': 2, 'element': 3, 'fullscreen': 3, 'resolution': 2, 'options': 2, 'demanding': 1, 'title': 1, 'someone': 1, 'solid': 3, 'unexceptional': 1, 'card': 1, 'k': 2, 'monitor': 1, 'time': 1, 'running': 1, 'p': 1, 'low': 1, 'ones': 1, 'achieving': 1, 'done': 2, 'changing': 1, 'display': 1, 'actual': 1, 'computer': 1, 'os': 1, 'bizarre': 1, 'frustrating': 1, 'requirement': 1, 'couple': 1, 'quirks': 1, 'dodge': 1, 'maneuver': 1, 'highly': 1, 'bound': 1, 'doubletap': 1, 'shift': 1, 'key': 1, \"that's\": 1, 'awkward': 1, 'inconsistent': 1, 'final': 1, 'thoughts': 1, 'review': 2, 'score': 1, 'screen': 1, \"rant's\": 1, 'metric': 1, 'upfront': 1, 'cost': 1, 'hard': 1, 'sell': 1, 'liveservice': 2, 'designed': 1, 'ask': 1, 'money': 1, 'turn': 1, 'everything': 1, 'least': 1, 'earned': 1, 'free': 1, 'monetization': 1, 'presumably': 1, 'joining': 1, 'first': 1, 'season': 1, 'starts': 1, 'progression': 1, 'would': 2, 'freedom': 1, 'choice': 1, 'added': 1, 'add': 1, 'continuing': 1, 'basic': 2, 'level': 1, 'faced': 1, 'uphill': 1, 'battle': 1, 'seems': 1, 'losing': 1, 'shotgun': 1, 'blast': 1, 'attempts': 1, 'hit': 1, 'notes': 1, 'prerogative': 1, 'harder': 1, 'do': 1, 'thing': 1, 'truly': 1, 'fresh': 1, 'exciting': 1, 'bigger': 1, 'pressure': 1, \"game's\": 1, 'systems': 1, 'click': 1, 'job': 1, 'lacks': 1, 'spark': 1, 'necessary': 1, 'light': 1, 'much': 1, 'flame': 1}\n"
     ]
    }
   ],
   "source": [
    "def word_frequency(text, stop_words = None):\n",
    "    if (stop_words == None):\n",
    "        stop_words = [\"and\", \"the\", \"is\", \"in\", \"it\", \"you\", \"that\", \"to\", \"of\", \"a\", \"with\", \"for\", \"on\", \"this\", \"at\",\n",
    "                        \"by\", \"an\", \"i\"]\n",
    "    arr = re.sub(r'[^a-z\\s\\']', '', text).split()\n",
    "    d = {}\n",
    "    for word in arr:\n",
    "        if (word not in dict.keys(d) and word not in stop_words):\n",
    "            d[word] = 1\n",
    "        elif (word not in stop_words):\n",
    "            d[word] += 1\n",
    "    return d\n",
    "\n",
    "word_frequencies = word_frequency(preprocessed_text)\n",
    "\n",
    "print(f\"Word frequencies: \\n{word_frequencies}\")"
   ]
  },
  {
   "cell_type": "markdown",
   "id": "b800dbc6",
   "metadata": {},
   "source": [
    "# Task 3"
   ]
  },
  {
   "cell_type": "code",
   "execution_count": 173,
   "id": "631233e8",
   "metadata": {},
   "outputs": [
    {
     "name": "stdout",
     "output_type": "stream",
     "text": [
      "Extracted information: \n",
      "{'emails': [], 'phone_numbers': [], 'dates': [], 'times': [], 'prices': []}\n"
     ]
    }
   ],
   "source": [
    "def extract_information(text, *, email_pattern=r'[a-zA-Z0-9._%+-]+@[a-zA-Z0-9.-]+\\.[a-zA-Z]{2,}',\n",
    "                        phone_pattern=r'[\\+(]\\d[\\d \\-()]{8,12}\\d', date_pattern=r'\\b\\d{1,2}[-/]\\d{1,2}[-/]\\d{2,4}\\b',\n",
    "                        time_pattern=r'\\b\\d{1,2}:\\d{2}\\s*[APap][mM]?\\b', price_pattern=r'\\$\\d+(?:\\.\\d{2})?', **custom_patterns):\n",
    "    d = {}\n",
    "    d['emails'] = re.findall(email_pattern, text)\n",
    "    d['phone_numbers'] = re.findall(phone_pattern, text)\n",
    "    d['dates'] = re.findall(date_pattern, text)\n",
    "    d['times'] = re.findall(time_pattern, text)\n",
    "    d['prices'] = re.findall(price_pattern, text)\n",
    "    for key, value in custom_patterns.items():\n",
    "        d[key] = re.findall(value, text)\n",
    "    return d\n",
    "\n",
    "extracted_information = extract_information(text_for_task_3)\n",
    "\n",
    "print(f\"Extracted information: \\n{extracted_information}\")"
   ]
  },
  {
   "cell_type": "markdown",
   "id": "f90703c7",
   "metadata": {},
   "source": [
    "# Task 4"
   ]
  },
  {
   "cell_type": "code",
   "execution_count": 174,
   "id": "bf5fa6ad",
   "metadata": {},
   "outputs": [],
   "source": [
    "positive_words = [\"good\", \"great\", \"happy\", \"joy\", \"excellent\", \"fantastic\", \"love\", \"best\"]"
   ]
  },
  {
   "cell_type": "code",
   "execution_count": 175,
   "id": "0c3ed6e6",
   "metadata": {},
   "outputs": [],
   "source": [
    "negative_words = [\"bad\", \"sad\", \"hate\", \"terrible\", \"awful\", \"poor\", \"worst\"]"
   ]
  },
  {
   "cell_type": "code",
   "execution_count": 176,
   "id": "164b5dfb",
   "metadata": {},
   "outputs": [
    {
     "name": "stdout",
     "output_type": "stream",
     "text": [
      "Sentiment score: \n",
      "9\n"
     ]
    }
   ],
   "source": [
    "def analyze_sentiment(text, positive_words=None, negative_words=None):\n",
    "    if negative_words is None:\n",
    "        negative_words = [\"bad\", \"sad\", \"hate\", \"terrible\", \"awful\", \"poor\", \"worst\"]\n",
    "    if positive_words is None:\n",
    "        positive_words = [\"good\", \"great\", \"happy\", \"joy\", \"excellent\", \"fantastic\", \"love\", \"best\", \"amazing\", \"fun\"]\n",
    "    arr = re.sub(r'[^a-z\\s\\']', '', text).split()\n",
    "    number_of_positive_words = 0\n",
    "    for word in positive_words:\n",
    "        number_of_positive_words += arr.count(word)\n",
    "    number_of_negative_words = 0\n",
    "    for word in negative_words:\n",
    "        number_of_negative_words += arr.count(word)\n",
    "    return number_of_positive_words - number_of_negative_words\n",
    "\n",
    "sentiment_score = analyze_sentiment(preprocessed_text)\n",
    "\n",
    "print(f\"Sentiment score: \\n{sentiment_score}\")"
   ]
  },
  {
   "cell_type": "markdown",
   "id": "a64be33d",
   "metadata": {},
   "source": [
    "# Task 5"
   ]
  },
  {
   "cell_type": "code",
   "execution_count": 177,
   "id": "f2e3ef2c",
   "metadata": {},
   "outputs": [
    {
     "name": "stdout",
     "output_type": "stream",
     "text": [
      "Summarized text: \n",
      "pros has all the hero shooter staples you'd expect focus on skillsgunplay having some nuance creates fun learning curve gameplay modes are fun cons uninspiring design restrictions on gameplay modes dull enjoyment weird graphics decisions on pc familiar elements with minor twists that aren't earthshattering don't expect anything gamechanging from concord it's difficult to discuss concord without talking about overwatch so it's best to get it out of the way early. final thoughts review score 35 solid or good by screen rant's review metric the upfront cost of concord might make it a hard sell in 2024 but it's certainly nice to play a liveservice shooter that doesn't feel designed to ask for money at every turn.\n"
     ]
    }
   ],
   "source": [
    "def summarize_text(text: str, compression_ratio: float, min_threshold=2):\n",
    "    sentences = re.split(r'(?<=\\w[.!?])\\s+', text)\n",
    "    needed_sentences = max(int(len(sentences) * compression_ratio), min_threshold)\n",
    "\n",
    "    def summarize(sentences):\n",
    "        if len(sentences) <= needed_sentences:\n",
    "            return\n",
    "        level = 100000000000\n",
    "        len_sentence_rang = 3\n",
    "        count_words_rang = 10\n",
    "        sentiment_rang = 100\n",
    "        for sentence in sentences:\n",
    "            sentence_level = len(sentence) * len_sentence_rang + len(sentence.split(' ')) * count_words_rang \\\n",
    "            + abs(analyze_sentiment(sentence)) * sentiment_rang\n",
    "            if (sentence_level < level):\n",
    "                level = sentence_level\n",
    "                min_level_sentence = sentence\n",
    "        sentences.remove(min_level_sentence)\n",
    "        summarize(sentences)\n",
    "    summarize(sentences)\n",
    "    sentences = ' '.join(sentences)\n",
    "    return sentences\n",
    "\n",
    "summarized_text = summarize_text(preprocessed_text, 0.05)\n",
    "\n",
    "print(f\"Summarized text: \\n{summarized_text}\")"
   ]
  },
  {
   "cell_type": "markdown",
   "id": "53c02d0e",
   "metadata": {},
   "source": [
    "# Task 6"
   ]
  },
  {
   "cell_type": "code",
   "execution_count": 178,
   "id": "37eae2cd",
   "metadata": {},
   "outputs": [
    {
     "name": "stdout",
     "output_type": "stream",
     "text": [
      "concord: ******************\n",
      "like: ************\n",
      "it's: **********\n",
      "but: **********\n",
      "one: **********\n",
      "hero: *********\n",
      "more: *********\n",
      "game: ********\n",
      "modes: ********\n",
      "be: ********\n",
      "up: *******\n",
      "shooter: *******\n",
      "abilities: *******\n",
      "as: ******\n",
      "can: ******\n",
      "which: ******\n",
      "might: *****\n",
      "feels: *****\n",
      "characters: *****\n",
      "rivalry: *****\n",
      "or: *****\n",
      "focus: *****\n",
      "gameplay: *****\n",
      "are: *****\n",
      "graphics: *****\n",
      "than: *****\n",
      "who: *****\n",
      "casual: *****\n",
      "maps: *****\n",
      "settings: *****\n",
      "could: ****\n",
      "some: ****\n",
      "fun: ****\n",
      "pc: ****\n",
      "from: ****\n",
      "without: ****\n",
      "although: ****\n",
      "feel: ****\n",
      "certainly: ***\n",
      "moment: ***\n",
      "has: ***\n",
      "lot: ***\n",
      "all: ***\n",
      "into: ***\n",
      "different: ***\n",
      "across: ***\n",
      "control: ***\n",
      "tactical: ***\n",
      "will: ***\n",
      "out: ***\n",
      "two: ***\n",
      "there's: ***\n",
      "design: ***\n",
      "don't: ***\n",
      "overwatch: ***\n",
      "get: ***\n",
      "even: ***\n",
      "its: ***\n",
      "heroswapping: ***\n",
      "interesting: ***\n",
      "end: ***\n",
      "being: ***\n",
      "players: ***\n",
      "character: ***\n",
      "things: ***\n",
      "those: ***\n",
      "healing: ***\n",
      "enemy: ***\n",
      "them: ***\n",
      "however: ***\n",
      "good: ***\n",
      "team: ***\n",
      "lack: ***\n",
      "while: ***\n",
      "other: ***\n",
      "every: ***\n",
      "better: ***\n",
      "element: ***\n",
      "fullscreen: ***\n",
      "solid: ***\n",
      "have: **\n",
      "firewalk: **\n",
      "setting: **\n",
      "premise: **\n",
      "already: **\n",
      "shooters: **\n",
      "promises: **\n",
      "when: **\n",
      "staples: **\n",
      "classes: **\n",
      "points: **\n",
      "each: **\n",
      "play: **\n",
      "make: **\n",
      "minor: **\n",
      "mode: **\n",
      "expect: **\n",
      "learning: **\n",
      "uninspiring: **\n",
      "aren't: **\n",
      "Visualized word frequinces: \n",
      "None\n"
     ]
    }
   ],
   "source": [
    "def visualize_word_frequency(dictionary, max_threshold=100):\n",
    "    sorted_d = {key: value for key, value in sorted(dictionary.items(), key=lambda item: item[1], reverse=True)}\n",
    "    temp = 0\n",
    "    if (max_threshold):\n",
    "        for key, value in sorted_d.items():\n",
    "            if (temp < max_threshold):\n",
    "                temp += 1\n",
    "                print(key + ': ' + value * '*')\n",
    "    else:\n",
    "        for key, value in sorted_d.items():\n",
    "            print(key + ': ' + value * '*')\n",
    "\n",
    "visualized = visualize_word_frequency(word_frequencies)\n",
    "\n",
    "print(f\"Visualized word frequinces: \\n{visualized}\")"
   ]
  },
  {
   "cell_type": "markdown",
   "id": "60afec33",
   "metadata": {},
   "source": [
    "# Task 7"
   ]
  },
  {
   "cell_type": "code",
   "execution_count": 179,
   "id": "f1899c07",
   "metadata": {},
   "outputs": [
    {
     "name": "stdout",
     "output_type": "stream",
     "text": [
      "Applied analysis: \n",
      "{'word_frequency': {'selling': 1, 'concord': 18, 'task': 1, 'might': 5, 'have': 2, 'been': 1, 'easy': 1, 'five': 1, 'years': 1, 'ago': 1, 'feels': 5, 'like': 12, 'rolling': 1, 'boulder': 1, 'up': 7, 'hill': 1, 'developed': 1, 'new': 1, 'studio': 1, 'firewalk': 2, 'published': 1, 'playstation': 1, 'studios': 1, 'v': 1, 'hero': 9, 'shooter': 7, 'riffs': 1, 'guardians': 1, 'galaxy': 1, 'cassetteera': 1, 'take': 1, 'pulpy': 1, 'space': 1, 'setting': 2, \"it's\": 10, 'premise': 2, 'could': 4, 'certainly': 3, 'work': 1, 'but': 10, 'prime': 1, 'cultural': 1, 'moment': 3, 'something': 1, 'fitting': 1, 'bill': 1, 'has': 3, 'already': 2, 'passed': 1, 'aggressive': 1, 'slate': 1, 'upcoming': 1, 'shooters': 2, 'marvel': 1, 'rivals': 1, \"valve's\": 1, 'deadlock': 1, 'promises': 2, 'lot': 3, 'competition': 1, 'when': 2, 'comes': 1, 'staples': 2, 'covers': 1, 'all': 3, 'bases': 1, 'characters': 5, 'divided': 1, 'into': 3, 'six': 1, 'different': 3, 'classes': 2, 'compete': 1, 'across': 3, 'several': 1, 'primary': 1, 'game': 8, 'modes': 8, 'teambased': 1, 'deathmatch': 1, 'brawl': 1, 'control': 3, 'points': 2, 'scenario': 1, 'called': 1, 'overrun': 1, 'competitive': 1, 'tactical': 3, 'option': 1, 'labeled': 1, 'rivalry': 5, 'each': 2, 'one': 10, 'will': 3, 'randomly': 1, 'play': 2, 'out': 3, 'as': 6, 'two': 3, 'versions': 1, 'make': 2, 'minor': 2, 'tweaks': 1, 'formula': 1, \"there's\": 3, 'nothing': 1, 'radically': 1, 'payload': 1, 'mode': 2, 'or': 5, 'freeforall': 1, 'pros': 1, \"you'd\": 1, 'expect': 2, 'focus': 5, 'skillsgunplay': 1, 'having': 1, 'some': 4, 'nuance': 1, 'creates': 1, 'fun': 4, 'learning': 2, 'curve': 1, 'gameplay': 5, 'are': 5, 'cons': 1, 'uninspiring': 2, 'design': 3, 'restrictions': 1, 'dull': 1, 'enjoyment': 1, 'weird': 1, 'graphics': 5, 'decisions': 1, 'pc': 4, 'familiar': 1, 'elements': 1, 'twists': 1, \"aren't\": 2, 'earthshattering': 1, \"don't\": 3, 'anything': 1, 'gamechanging': 1, 'from': 4, 'difficult': 1, 'discuss': 1, 'without': 4, 'talking': 1, 'about': 2, 'overwatch': 3, 'so': 2, 'best': 1, 'get': 3, 'way': 2, 'early': 1, 'titan': 1, 'degree': 2, 'most': 1, 'competitors': 1, 'perhaps': 1, 'even': 3, \"doesn't\": 2, 'responsive': 1, 'gunplay': 1, 'movement': 1, 'heft': 1, 'more': 9, 'less': 1, 'line': 2, 'its': 3, 'minimal': 1, 'interest': 1, 'overstimulation': 1, 'refreshingly': 1, 'aligned': 1, 'original': 1, 'experience': 1, 'thoroughly': 1, 'fulfills': 1, 'heroswapping': 3, 'open': 1, 'queue': 1, 'flexible': 1, 'approach': 2, 'roles': 1, 'general': 1, 'help': 1, 'combat': 1, 'overreliance': 1, 'meta': 1, 'compositions': 1, 'rather': 2, 'than': 5, 'distinctions': 1, 'dps': 1, 'tank': 2, 'support': 1, 'divisions': 1, 'how': 2, 'poke': 1, 'enemies': 1, 'breachers': 1, 'star': 1, 'child': 1, 'who': 5, 'can': 6, 'effectively': 1, 'lead': 1, 'charges': 1, 'haunts': 1, 'itz': 1, 'stay': 1, 'move': 1, 'unusual': 1, 'part': 1, 'actively': 1, 'incentivizes': 1, 'buffs': 1, 'activate': 1, 'participating': 1, 'role': 1, 'interesting': 3, 'weirdly': 1, 'appended': 1, 'mechanic': 2, 'end': 3, 'being': 3, 'ignored': 1, 'casual': 5, 'players': 3, 'character': 3, 'variants': 2, 'custom': 2, 'roster': 2, 'building': 2, 'also': 2, 'emphasize': 1, 'complexity': 1, 'possibilities': 1, 'abilities': 7, 'follow': 1, 'games': 1, 'valorant': 1, 'bit': 1, 'muted': 1, 'nature': 2, 'effect': 1, 'simply': 1, 'throw': 1, 'things': 3, 'whether': 1, 'those': 3, 'knives': 1, 'grenades': 1, 'healing': 3, 'pads': 2, 'satisfying': 2, 'whenever': 1, 'resolve': 1, 'successful': 1, 'sequence': 1, 'especially': 1, 'thanks': 1, 'recharge': 1, 'requires': 1, 'kills': 1, 'regain': 1, 'skill': 1, 'uses': 1, 'flashbanging': 1, 'enemy': 3, 'haymar': 1, 'comboing': 1, 'them': 3, 'walls': 1, 'fire': 1, 'flaming': 1, 'projectiles': 1, 'deeply': 1, 'skills': 2, 'however': 3, 'feeling': 1, 'only': 2, 'mildly': 1, 'impactful': 1, 'completely': 1, 'irrelevant': 1, 'balancing': 1, 'hurt': 1, 'good': 3, 'cadence': 2, 'kneecapped': 1, 'restriction': 1, 'although': 4, \"concord's\": 2, 'maps': 5, 'often': 1, 'naturally': 2, 'corral': 1, 'direction': 1, 'working': 1, 'team': 3, 'important': 2, 'high': 1, 'timetokill': 1, 'lack': 3, 'quickly': 1, 'shatter': 1, 'health': 1, 'bars': 1, 'mean': 1, 'picking': 2, 'off': 2, 'alone': 1, 'challenge': 2, 'backup': 1, 'charging': 1, 'fray': 1, 'emari': 1, 'essentially': 1, 'redux': 1, 'fortress': 1, \"'s\": 2, 'heavy': 1, 'be': 8, 'standing': 1, 'behind': 1, 'corner': 1, 'buff': 1, 'highdamage': 1, 'teammates': 1, 'her': 1, 'armor': 1, 'generator': 1, 'equally': 1, 'strong': 1, 'decision': 1, \"isn't\": 1, 'constant': 1, 'showdowns': 2, 'instead': 1, 'focusing': 1, 'ability': 1, 'survive': 1, 'confrontation': 1, 'pick': 1, 'pieces': 1, 'before': 1, 'next': 1, 'gradated': 1, 'recharges': 1, 'instant': 1, 'refills': 1, 'number': 1, 'expendable': 1, 'regained': 1, 'drop': 1, 'after': 2, 'killing': 1, 'enjoy': 1, 'fluctuates': 1, 'intensity': 1, 'engaging': 1, 'actually': 2, 'finding': 1, 'while': 3, 'sometimes': 1, 'feel': 4, 'wild': 1, 'goose': 1, 'chase': 1, 'biggest': 1, 'lies': 1, 'attempt': 1, 'put': 1, 'equal': 1, 'emphasis': 2, 'both': 1, 'fps': 1, 'brawls': 1, 'matches': 1, 'reward': 1, 'uneven': 1, 'ways': 1, 'balanced': 1, 'around': 2, 'which': 6, 'was': 1, 'altered': 1, 'launch': 1, 'give': 1, 'extra': 1, 'xp': 1, 'order': 1, 'fix': 1, 'queues': 2, 'were': 1, 'previously': 1, 'struggling': 1, 'fill': 1, \"rivalry's\": 1, 'cargo': 1, 'run': 1, 'works': 1, 'bombplanting': 1, 'extraction': 1, 'match': 1, 'other': 3, 'clash': 1, 'point': 1, 'simplifies': 1, 'zone': 1, 'winning': 1, 'round': 1, 'locks': 1, 'future': 1, 'use': 2, 'crew': 1, 'repeat': 1, 'heroes': 2, 'obstacle': 1, 'swapping': 1, 'incentivized': 1, 'buffstacking': 1, 'system': 1, 'integrates': 1, 'careful': 1, 'flanking': 1, 'tend': 1, 'guided': 1, 'directionless': 1, 'arenas': 1, 'consistently': 1, 'relevant': 2, 'playing': 1, 'slower': 1, 'no': 1, 'longer': 1, 'punishment': 1, 'relatively': 1, 'venturing': 1, 'hypercompetitive': 1, 'territory': 1, 'nice': 2, 'strategizing': 1, 'sweating': 1, 'goodlooking': 1, 'caveats': 1, 'aplenty': 1, 'excellent': 1, 'litter': 1, 'aesthetic': 1, 'may': 1, 'fairly': 2, 'divisive': 1, 'realm': 1, 'visually': 1, 'polished': 2, 'gorgeous': 1, 'lighting': 1, 'textures': 1, 'medium': 1, 'settings': 5, 'show': 1, 'these': 1, 'features': 1, 'well': 1, 'others': 1, 'blandly': 1, 'industrial': 1, 'designs': 1, 'manage': 1, 'avoid': 1, 'falling': 1, 'back': 1, 'tropes': 1, 'every': 3, 'few': 1, 'come': 2, 'particularly': 1, 'appealing': 1, 'current': 1, 'cosmetics': 1, 'never': 1, 'interestingly': 1, 'transformative': 1, 'cast': 1, 'backed': 1, 'lore': 2, 'promising': 1, 'weekly': 1, 'cutscenes': 1, 'keep': 1, 'forefront': 1, 'information': 1, 'reflected': 1, 'ingame': 1, 'through': 1, 'galactic': 1, 'guide': 1, 'makes': 2, 'decent': 1, 'reading': 1, 'waiting': 1, 'making': 1, 'story': 2, 'require': 1, 'moving': 1, 'beyond': 1, 'currently': 1, 'generic': 1, 'quippy': 1, 'still': 1, 'better': 3, 'ongoing': 1, 'development': 1, 'itself': 1, 'very': 2, 'baffling': 2, 'element': 3, 'fullscreen': 3, 'resolution': 2, 'options': 2, 'demanding': 1, 'title': 1, 'someone': 1, 'solid': 3, 'unexceptional': 1, 'card': 1, 'k': 2, 'monitor': 1, 'time': 1, 'running': 1, 'p': 1, 'low': 1, 'ones': 1, 'achieving': 1, 'done': 2, 'changing': 1, 'display': 1, 'actual': 1, 'computer': 1, 'os': 1, 'bizarre': 1, 'frustrating': 1, 'requirement': 1, 'couple': 1, 'quirks': 1, 'dodge': 1, 'maneuver': 1, 'highly': 1, 'bound': 1, 'doubletap': 1, 'shift': 1, 'key': 1, \"that's\": 1, 'awkward': 1, 'inconsistent': 1, 'final': 1, 'thoughts': 1, 'review': 2, 'score': 1, 'screen': 1, \"rant's\": 1, 'metric': 1, 'upfront': 1, 'cost': 1, 'hard': 1, 'sell': 1, 'liveservice': 2, 'designed': 1, 'ask': 1, 'money': 1, 'turn': 1, 'everything': 1, 'least': 1, 'earned': 1, 'free': 1, 'monetization': 1, 'presumably': 1, 'joining': 1, 'first': 1, 'season': 1, 'starts': 1, 'progression': 1, 'would': 2, 'freedom': 1, 'choice': 1, 'added': 1, 'add': 1, 'continuing': 1, 'basic': 2, 'level': 1, 'faced': 1, 'uphill': 1, 'battle': 1, 'seems': 1, 'losing': 1, 'shotgun': 1, 'blast': 1, 'attempts': 1, 'hit': 1, 'notes': 1, 'prerogative': 1, 'harder': 1, 'do': 1, 'thing': 1, 'truly': 1, 'fresh': 1, 'exciting': 1, 'bigger': 1, 'pressure': 1, \"game's\": 1, 'systems': 1, 'click': 1, 'job': 1, 'lacks': 1, 'spark': 1, 'necessary': 1, 'light': 1, 'much': 1, 'flame': 1}, 'analyze_sentiment': 9}\n"
     ]
    }
   ],
   "source": [
    "def apply_analysis(text, operations):\n",
    "    text = preprocess_text(text)\n",
    "    result = {}\n",
    "    for i in operations:\n",
    "        result[i.__name__] = i(text)\n",
    "    return result\n",
    "\n",
    "analysis = apply_analysis(preprocessed_text, [word_frequency, analyze_sentiment])\n",
    "\n",
    "print(f\"Applied analysis: \\n{analysis}\")"
   ]
  },
  {
   "cell_type": "markdown",
   "id": "62b6758c",
   "metadata": {},
   "source": [
    "# Task 8"
   ]
  },
  {
   "cell_type": "code",
   "execution_count": 180,
   "id": "038a43e3",
   "metadata": {},
   "outputs": [],
   "source": [
    "class TextAnalyzer:\n",
    "    def __init__(self, text: str):\n",
    "        self.original_text = text\n",
    "        self.cleaned_text = self.preprocess_text(text)\n",
    "\n",
    "    def preprocess_text(self, text: str):\n",
    "        text = text.lower()\n",
    "        text = re.sub(r'[^a-z\\s.!?0-9\\']', '', text)\n",
    "        text = re.sub(r'([.!?])\\1+', r'\\1', text)\n",
    "        text = re.sub(r'\\s+', ' ', text).strip()\n",
    "        return text\n",
    "\n",
    "    def word_frequency(self) -> dict:\n",
    "        if (self.cleaned_text):\n",
    "            stop_words = [\"and\", \"the\", \"is\", \"in\", \"it\", \"you\", \"that\", \"to\", \"of\", \"a\", \"with\", \"for\", \"on\", \"this\", \"at\", \"by\", \"an\", \"i\"]\n",
    "            arr = re.sub(r'[^a-z\\s\\']', '', self.cleaned_text).split()\n",
    "            d = {}\n",
    "            for word in arr:\n",
    "                if (word not in dict.keys(d) and word not in stop_words):\n",
    "                    d[word] = 1\n",
    "                elif (word not in stop_words):\n",
    "                    d[word] += 1\n",
    "            return d\n",
    "        else:\n",
    "            return {}\n",
    "\n",
    "    def extract_information(self, *, email_pattern=r'[a-zA-Z0-9._%+-]+@[a-zA-Z0-9.-]+\\.[a-zA-Z]{2,}',\n",
    "                        phone_pattern=r'[\\+(]\\d[\\d \\-()]{8,12}\\d', date_pattern=r'\\b\\d{1,2}[-/]\\d{1,2}[-/]\\d{2,4}\\b',\n",
    "                        time_pattern=r'\\b\\d{1,2}:\\d{2}\\s*[APap][mM]?\\b', price_pattern=r'\\$\\d+(?:\\.\\d{2})?', **patterns) -> dict:\n",
    "        d = {}\n",
    "        d['emails'] = re.findall(email_pattern, self.original_text)\n",
    "        d['phone_numbers'] = re.findall(phone_pattern, self.original_text)\n",
    "        d['dates'] = re.findall(date_pattern, self.original_text)\n",
    "        d['times'] = re.findall(time_pattern, self.original_text)\n",
    "        d['prices'] = re.findall(price_pattern, self.original_text)\n",
    "        for i in patterns:\n",
    "            d['i'] = re.findall(i, self.original_text)\n",
    "        return d\n",
    "\n",
    "    def analyze_sentiment(self, positive_words = [\"good\", \"great\", \"happy\", \"joy\", \"excellent\", \"fantastic\", \"love\", \"best\", \"amazing\", \"fun\"],\n",
    "                          negative_words = [\"bad\", \"sad\", \"hate\", \"terrible\", \"awful\", \"poor\", \"worst\"]) -> int:\n",
    "        arr = re.sub(r'[^a-z\\s\\']', '', self.cleaned_text).split()\n",
    "        for i in range(0, len(arr)):\n",
    "            if (arr[i][-1] == '.'):\n",
    "                arr[i] = arr[i][:-1]\n",
    "        number_of_positive_words = 0\n",
    "        for word in positive_words:\n",
    "            number_of_positive_words += arr.count(word)\n",
    "        number_of_negative_words = 0\n",
    "        for word in negative_words:\n",
    "            number_of_negative_words += arr.count(word)\n",
    "        return number_of_positive_words - number_of_negative_words\n",
    "\n",
    "    def summarize_text(self, compression_ratio: float, min_threshold=2) -> str:\n",
    "        sentences = re.split(r'(?<=\\w[.!?])\\s+', self.cleaned_text)\n",
    "        needed_sentences = max(int(len(sentences) * compression_ratio), min_threshold)\n",
    "    \n",
    "        def summarize(sentences):\n",
    "            if len(sentences) <= needed_sentences:\n",
    "                return\n",
    "            level = 100000000000\n",
    "            len_sentence_rang = 3\n",
    "            count_words_rang = 10\n",
    "            sentiment_rang = 100\n",
    "            for sentence in sentences:\n",
    "                sentence_level = len(sentence) * len_sentence_rang + len(sentence.split(' ')) * count_words_rang \\\n",
    "                + abs(analyze_sentiment(sentence)) * sentiment_rang\n",
    "                if (sentence_level < level):\n",
    "                    level = sentence_level\n",
    "                    min_level_sentence = sentence\n",
    "            sentences.remove(min_level_sentence)\n",
    "            summarize(sentences)\n",
    "        summarize(sentences)\n",
    "        sentences = ' '.join(sentences)\n",
    "        return sentences\n",
    "\n",
    "    def visualize_word_frequency(self, max_threshold=None) -> None:\n",
    "        sorted_d = {key: value for key, value in sorted(self.word_frequency().items(), key=lambda item: item[1], reverse=True)}\n",
    "        temp = 0\n",
    "        if (max_threshold):\n",
    "            for key, value in sorted_d.items():\n",
    "                if (temp < max_threshold):\n",
    "                    temp += 1\n",
    "                    print(key + ': ' + value * '*')\n",
    "        else:\n",
    "            for key, value in sorted_d.items():\n",
    "                print(key + ': ' + value * '*')\n",
    "\n",
    "    def apply_analysis(self, analysis_functions: list) -> dict:\n",
    "        result = {}\n",
    "        for i in analysis_functions:\n",
    "            result[i.__name__] = i(self.cleaned_text)\n",
    "        return result"
   ]
  },
  {
   "cell_type": "markdown",
   "id": "1cb1fa3a",
   "metadata": {},
   "source": [
    "# Task 9"
   ]
  },
  {
   "cell_type": "code",
   "execution_count": 181,
   "id": "f079c3e5",
   "metadata": {},
   "outputs": [
    {
     "name": "stdout",
     "output_type": "stream",
     "text": [
      "Preprocessed text:\n",
      "selling concord a task that might have been easy five years ago feels like rolling a boulder up a hill in 2024.\n",
      "developed by new studio firewalk and published by playstation studios concord is a 5v5 hero shooter that riffs on\n",
      "guardians of the galaxy with a cassetteera take on a pulpy space setting....\n",
      "\n",
      "Most frequent words:\n",
      "concord: 18 times.\n",
      "like: 12 times.\n",
      "it's: 10 times.\n",
      "but: 10 times.\n",
      "one: 10 times.\n",
      "hero: 9 times.\n",
      "more: 9 times.\n",
      "game: 8 times.\n",
      "modes: 8 times.\n",
      "be: 8 times.\n",
      "up: 7 times.\n",
      "shooter: 7 times.\n",
      "abilities: 7 times.\n",
      "\n",
      "Sentiment score:\n",
      "10\n",
      "\n",
      "Summarized text:\n",
      "pros has all the hero shooter staples you'd expect focus on skillsgunplay having some nuance creates fun learning curve gameplay modes are fun cons\n",
      "uninspiring design restrictions on gameplay modes dull enjoyment weird graphics decisions on pc familiar elements with minor twists that aren't\n",
      "earthshattering don't expect anything gamechanging from concord it's difficult to discuss concord without talking about overwatch so it's best to get\n",
      "it out of the way early. final thoughts review score 35 solid or good by screen rant's review metric the upfront cost of concord might make it a hard\n",
      "sell in 2024 but it's certainly nice to play a live service shooter that doesn't feel designed to ask for money at every turn.\n"
     ]
    }
   ],
   "source": [
    "Sic_Mundus_Creatus_Est = TextAnalyzer(wrapped)\n",
    "\n",
    "print(\"Preprocessed text:\")\n",
    "print(textwrap.fill(Sic_Mundus_Creatus_Est.cleaned_text[:300], width=120) + '...')\n",
    "print()\n",
    "word_frequency_dic = Sic_Mundus_Creatus_Est.word_frequency()\n",
    "sorted_dic = {key: value for key, value in sorted(word_frequency_dic.items(), key=lambda item: item[1], reverse=True)}\n",
    "temp = 0\n",
    "s = ''\n",
    "print(\"Most frequent words:\")\n",
    "for i in sorted_dic.keys():\n",
    "    if (temp < 13):\n",
    "        print(i + \": \" + str(sorted_dic[i]) + \" times.\")\n",
    "        temp += 1\n",
    "print()\n",
    "print(\"Sentiment score:\")\n",
    "print(Sic_Mundus_Creatus_Est.analyze_sentiment())\n",
    "print()\n",
    "print(\"Summarized text:\")\n",
    "print(textwrap.fill(Sic_Mundus_Creatus_Est.summarize_text(0.05), width=150))"
   ]
  },
  {
   "cell_type": "markdown",
   "id": "7c5b0182",
   "metadata": {},
   "source": [
    "By looking at the most frequently occurring words and the condensed text, we can conclude that the original text is a review of a shooter called 'Concord.' According to the sentiment analysis, the review is more positive than negative. Based on the summary, the shooter has all the core elements of games in this genre but slightly falls short in graphics. The author also notes that the game does not require much in-game spending for an enjoyable experience."
   ]
  },
  {
   "cell_type": "markdown",
   "id": "15a67780",
   "metadata": {},
   "source": [
    "## Conclusion:\n",
    "\n",
    "In the course of this work, I developed a text analysis tool. This tool can process various types of text entries, generating insights and statistics. It includes the following functions:\n",
    "  - Text cleaning\n",
    "  - Word frequency counting\n",
    "  - Pattern-based information extraction\n",
    "  - Sentiment analysis\n",
    "  - Text compression based on specific metrics\n",
    "  - Word frequency visualization\n",
    "  - Applying multiple functions simultaneously\n",
    "  - A dedicated class containing all the analysis functions."
   ]
  }
 ],
 "metadata": {
  "kernelspec": {
   "display_name": "Python 3",
   "language": "python",
   "name": "python3"
  },
  "language_info": {
   "codemirror_mode": {
    "name": "ipython",
    "version": 3
   },
   "file_extension": ".py",
   "mimetype": "text/x-python",
   "name": "python",
   "nbconvert_exporter": "python",
   "pygments_lexer": "ipython3",
   "version": "3.9.13"
  }
 },
 "nbformat": 4,
 "nbformat_minor": 5
}
